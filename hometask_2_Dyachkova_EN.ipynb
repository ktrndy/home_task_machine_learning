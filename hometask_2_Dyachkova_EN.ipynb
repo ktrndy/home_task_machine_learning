{
 "cells": [
  {
   "cell_type": "code",
   "execution_count": 324,
   "metadata": {},
   "outputs": [
    {
     "name": "stdout",
     "output_type": "stream",
     "text": [
      "[[0.98748828 0.79207191 0.46139149]\n",
      " [0.4884195  0.80848667 0.56394351]\n",
      " [0.0191096  0.89787823 0.93441797]\n",
      " [0.91886186 0.40253207 0.42006948]\n",
      " [0.72209204 0.76971264 0.91193218]\n",
      " [0.99005161 0.36992748 0.35620054]\n",
      " [0.79593651 0.17904743 0.97024438]\n",
      " [0.79769003 0.91416005 0.84566049]\n",
      " [0.26735511 0.40547708 0.62065602]\n",
      " [0.4701458  0.43376879 0.38848856]]\n"
     ]
    },
    {
     "data": {
      "text/plain": [
       "array([0.46139149, 0.4884195 , 0.89787823, 0.42006948, 0.72209204,\n",
       "       0.36992748, 0.79593651, 0.79769003, 0.40547708, 0.4701458 ])"
      ]
     },
     "execution_count": 324,
     "metadata": {},
     "output_type": "execute_result"
    }
   ],
   "source": [
    "#Task_1\n",
    "\n",
    "import numpy as np\n",
    "\n",
    "a = np.random.random((10, 3))\n",
    "print(a)\n",
    "a[np.arange(10), np.argmin(abs(a - 0.5), axis = 1)]"
   ]
  },
  {
   "cell_type": "code",
   "execution_count": 279,
   "metadata": {},
   "outputs": [
    {
     "name": "stdout",
     "output_type": "stream",
     "text": [
      "[[0.60334969 0.58702947 0.35225563 0.37220299 0.26132198 0.27409876]\n",
      " [0.74941176 0.03470373 0.51967131 0.16867784 0.54674629 0.98771921]\n",
      " [0.08173731 0.86458681 0.25970635 0.65469103 0.84912181 0.86413165]\n",
      " [0.85012311 0.2280628  0.76802596 0.85247647 0.47926597 0.18225359]\n",
      " [0.81777512 0.15431735 0.16524335 0.6199383  0.5491417  0.70859228]\n",
      " [0.27527223 0.07771974 0.34414636 0.98615161 0.69664529 0.88731795]]\n",
      "[29.97723349 86.64573265 21.62855568 19.92086161 11.53752183 17.92696241]\n"
     ]
    }
   ],
   "source": [
    "#Task_2\n",
    "\n",
    "import numpy as np\n",
    "\n",
    "a=np.random.random((6, 6))\n",
    "print(a)\n",
    "print(a.sum(axis=1)/a.min(axis=0))"
   ]
  },
  {
   "cell_type": "code",
   "execution_count": 338,
   "metadata": {},
   "outputs": [
    {
     "name": "stdout",
     "output_type": "stream",
     "text": [
      "5\n"
     ]
    }
   ],
   "source": [
    "#Task_3\n",
    "\n",
    "import numpy as np\n",
    "\n",
    "a = np.array([6, 2, 0, 3, 0, 0, 5, 7, 0]) \n",
    "\n",
    "i=0\n",
    "while a[i]!=0:\n",
    "    i+=1\n",
    "    \n",
    "max_el=a[i+1]\n",
    "for j in range(i+1,len(a)):\n",
    "    if a[j-1] == 0:\n",
    "        if a[j]>max_el:\n",
    "            max_el=a[j]\n",
    "print(max_el)\n"
   ]
  },
  {
   "cell_type": "code",
   "execution_count": 323,
   "metadata": {},
   "outputs": [
    {
     "name": "stdout",
     "output_type": "stream",
     "text": [
      "[1 1 1 1 0 3 0 0 1]\n",
      "[2. 2. 2. 2. 1. 4. 1. 1. 2. 1.]\n"
     ]
    }
   ],
   "source": [
    "#Task_4\n",
    "\n",
    "import numpy as np\n",
    "\n",
    "a = np.ones(10)\n",
    "b = np.array([0, 1, 2, 3, 5, 5, 5, 8])\n",
    "print(np.bincount(b))\n",
    "print(a+np.pad(np.bincount(b),(0,len(a)-len(np.bincount(b))), 'constant'))\n"
   ]
  },
  {
   "cell_type": "code",
   "execution_count": 322,
   "metadata": {},
   "outputs": [
    {
     "name": "stdout",
     "output_type": "stream",
     "text": [
      "[[ 0  1  2  3]\n",
      " [ 4  5  6  7]\n",
      " [ 8  9 10 11]\n",
      " [12 13 14 15]]\n",
      "{0: [0], 1: [1, 4], 2: [2, 5, 8], 3: [3, 6, 9, 12], 4: [7, 10, 13], 5: [11, 14], 6: [15]}\n"
     ]
    }
   ],
   "source": [
    "#Task_5\n",
    "\n",
    "import numpy as np\n",
    "\n",
    "a = np.arange(16).reshape(4, 4)\n",
    "print(a)\n",
    "\n",
    "d = {}\n",
    "for i in range(len(a[0])):\n",
    "    for j in range(len(a[0])):\n",
    "        d[i+j]=[]\n",
    "for i in range(len(a[0])):\n",
    "    for j in range(len(a[0])):\n",
    "        d[i+j].append(a[i,j])\n",
    "print(d)"
   ]
  },
  {
   "cell_type": "code",
   "execution_count": 2,
   "metadata": {},
   "outputs": [
    {
     "name": "stdout",
     "output_type": "stream",
     "text": [
      "(array([[3.77111925, 5.90130403],\n",
      "       [1.80133059, 4.02299172]]), 0.4704687987291571)\n",
      "(array([[1.80133059, 4.02299172],\n",
      "       [3.77111925, 5.90130403]]), 0.4701316241063735)\n"
     ]
    }
   ],
   "source": [
    "#Task_6\n",
    "\n",
    "import numpy as np \n",
    "from scipy.cluster.vq import kmeans\n",
    "\n",
    "def my_kmeans(A, k, it, epsilon): #n - размерность пространства, в котором берём точки\n",
    "    i = 0  #счетчик\n",
    "    N = A.shape[0]\n",
    "    n = A.shape[1]\n",
    "    C = A[:k, :] #начальные центроиды\n",
    "    A = np.expand_dims(A, axis = 1) #увеличиваем размерность входной матрицы, теперь (N,1,n)\n",
    "    C_new = np.zeros((k, n)) \n",
    "    Dist = k * N * n * np.max(A) ** 2\n",
    "    Dist_new = 0\n",
    "    while i < it or Dist_new - Dist > epsilon:\n",
    "            Dist_new = Dist\n",
    "            C_new = C\n",
    "            D = A - C  \n",
    "            qw = np.argmin((D ** 2).sum(axis = 2), axis = 1) #qw[номер элемента из входного массива]=количества элементов в соответствующем кластере\n",
    "            S = np.zeros(N * n * k).reshape(N, k, n)\n",
    "            S[np.arange(N), qw, :] = D[np.arange(N),  qw, :] / np.bincount(qw)[qw].reshape(N, 1) \n",
    "            C = C_new + np.squeeze(S.sum(axis = 0)) #теперь это центры масс кластеров\n",
    "            qw = np.argmin(((A - C) ** 2).sum(axis = 2), axis = 1)\n",
    "            S = np.zeros(N * n * k).reshape(N, k, n)\n",
    "            S[np.arange(N), qw, :] = (A - C)[np.arange(N), qw, :]\n",
    "            i = i + 1\n",
    "            Dist = np.sqrt((S ** 2).sum(axis = 2)).sum(axis = 1).mean()  \n",
    "    return C, Dist\n",
    "           \n",
    "Ar = np.genfromtxt('dataset-44970.csv', delimiter=',', skip_header=1)\n",
    "Ar = Ar / np.std(Ar, axis = 0)\n",
    "\n",
    "print(my_kmeans(Ar, 2, 1000, 1e-02))\n",
    "print(kmeans(Ar, 2, 1000, 1e-02))"
   ]
  },
  {
   "cell_type": "code",
   "execution_count": null,
   "metadata": {},
   "outputs": [],
   "source": []
  },
  {
   "cell_type": "code",
   "execution_count": null,
   "metadata": {},
   "outputs": [],
   "source": []
  },
  {
   "cell_type": "code",
   "execution_count": null,
   "metadata": {},
   "outputs": [],
   "source": []
  },
  {
   "cell_type": "code",
   "execution_count": null,
   "metadata": {},
   "outputs": [],
   "source": []
  },
  {
   "cell_type": "code",
   "execution_count": null,
   "metadata": {},
   "outputs": [],
   "source": []
  },
  {
   "cell_type": "code",
   "execution_count": null,
   "metadata": {},
   "outputs": [],
   "source": []
  }
 ],
 "metadata": {
  "kernelspec": {
   "display_name": "Python 3",
   "language": "python",
   "name": "python3"
  }
 },
 "nbformat": 4,
 "nbformat_minor": 2
}

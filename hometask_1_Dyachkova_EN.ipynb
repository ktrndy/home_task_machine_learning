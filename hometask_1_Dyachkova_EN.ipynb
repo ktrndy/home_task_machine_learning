{
 "cells": [
  {
   "cell_type": "code",
   "execution_count": 7,
   "metadata": {},
   "outputs": [
    {
     "name": "stdout",
     "output_type": "stream",
     "text": [
      "1\n",
      "1\n",
      "2\n",
      "3\n",
      "[1, 1, 2, 3]\n",
      "1 1 2 3 \n",
      "\n",
      "Write a number: 6\n",
      "[1, 1, 2, 3, 5]\n"
     ]
    }
   ],
   "source": [
    "#Exercise 3\n",
    "\n",
    "from __future__ import print_function\n",
    "\n",
    "a = [1, 1, 2, 3, 5, 8, 13, 21, 34, 55, 89]\n",
    "for i in range(len(a)):\n",
    "    if a[i]<5:\n",
    "        print(a[i])\n",
    "        \n",
    "b = []\n",
    "for i in range(len(a)):\n",
    "    if a[i] < 5:\n",
    "        b.append(a[i])\n",
    "print(b)\n",
    "\n",
    "for elem in b:\n",
    "    print(elem, end=' ')\n",
    "    \n",
    "print('\\n')\n",
    "\n",
    "d=[]\n",
    "c=input(\"Write a number: \")\n",
    "for elem in a:\n",
    "    if elem<c:\n",
    "        d.append(elem)\n",
    "print(d)        "
   ]
  },
  {
   "cell_type": "code",
   "execution_count": 1,
   "metadata": {},
   "outputs": [
    {
     "name": "stdout",
     "output_type": "stream",
     "text": [
      "Write a number: 7\n",
      "('Divisors of your number:', [1, 7])\n"
     ]
    }
   ],
   "source": [
    "#Exercise 4\n",
    "\n",
    "a=input(\"Write a number: \")\n",
    "b=[]\n",
    "for i in range(1,a+1):\n",
    "    if a%i==0:\n",
    "        b.append(i)\n",
    "print(\"Divisors of your number:\",b)"
   ]
  },
  {
   "cell_type": "code",
   "execution_count": 7,
   "metadata": {},
   "outputs": [
    {
     "name": "stdout",
     "output_type": "stream",
     "text": [
      "[1, 2, 3, 5, 8, 13]\n",
      "3\n",
      "12\n",
      "[10, 7, 11]\n",
      "[7, 3, 8, 7, 4, 6, 5, 5, 10, 9]\n",
      "[10, 7]\n"
     ]
    }
   ],
   "source": [
    "#Exercise 5\n",
    "\n",
    "import random\n",
    "import numpy\n",
    "\n",
    "a = [1, 1, 2, 3, 5, 8, 13, 21, 34, 55, 89]\n",
    "b = [1, 2, 3, 4, 5, 6, 7, 8, 9, 10, 11, 12, 13]\n",
    "\n",
    "k=0\n",
    "c=[]\n",
    "for elema in a:\n",
    "    for elemb in b:\n",
    "        if elema == elemb:\n",
    "            for elemc in c:\n",
    "                if elema==elemc:\n",
    "                    k=1\n",
    "            if k==0:\n",
    "                c.append(elema)\n",
    "    k=0\n",
    "print(c)\n",
    "\n",
    "a1=int(input())\n",
    "a2=int(input())\n",
    "len1=random.randint(a1,a2)\n",
    "len2=random.randint(a1,a2)\n",
    "a=[]\n",
    "b=[]\n",
    "for i in range(len1):\n",
    "    a.append(random.randint(a1,a2))\n",
    "for i in range(len2):\n",
    "    b.append(random.randint(a1,a2))  #random.uniform(a1,a2) для списка вещественных чисел\n",
    "print(a)\n",
    "print(b)\n",
    "k=0\n",
    "c=[]\n",
    "for elema in a:\n",
    "    for elemb in b:\n",
    "        if elema == elemb:\n",
    "            for elemc in c:\n",
    "                if elema==elemc:\n",
    "                    k=1\n",
    "            if k==0:\n",
    "                c.append(elema)\n",
    "    k=0\n",
    "print(c)"
   ]
  },
  {
   "cell_type": "code",
   "execution_count": 17,
   "metadata": {},
   "outputs": [
    {
     "name": "stdout",
     "output_type": "stream",
     "text": [
      "dfd6666dfd\n",
      "palindrome\n"
     ]
    }
   ],
   "source": [
    "#Exercise 6\n",
    "\n",
    "s=str(input())\n",
    "k=0\n",
    "for i in range(len(s)//2):\n",
    "    if s[i] == s[len(s)-i-1]:\n",
    "        k=k+1\n",
    "if k == len(s)//2:\n",
    "    print('it is a palindrome')\n",
    "else:\n",
    "    print('it is not a palindrome')\n"
   ]
  },
  {
   "cell_type": "code",
   "execution_count": 22,
   "metadata": {},
   "outputs": [
    {
     "name": "stdout",
     "output_type": "stream",
     "text": [
      "1\n",
      "7\n",
      "[1, 6, 6]\n",
      "[6, 6]\n"
     ]
    }
   ],
   "source": [
    "#Exercise 7\n",
    "\n",
    "import random\n",
    "\n",
    "a1=int(input())\n",
    "a2=int(input())\n",
    "len=random.randint(a1,a2)\n",
    "a=[]\n",
    "for i in range(len):\n",
    "    a.append(random.randint(a1,a2))\n",
    "print(a)\n",
    "b = [b for b in a if b%2==0]\n",
    "print(b)"
   ]
  },
  {
   "cell_type": "code",
   "execution_count": 37,
   "metadata": {},
   "outputs": [
    {
     "name": "stdout",
     "output_type": "stream",
     "text": [
      "How many Fibonacci numbers do you want to see? 6\n",
      "0\n",
      "1\n",
      "1\n",
      "2\n",
      "3\n",
      "5\n"
     ]
    }
   ],
   "source": [
    "#Exercise 13\n",
    "\n",
    "def fun(b):\n",
    "    c=0\n",
    "    if b >= 1:\n",
    "        print(c)\n",
    "    if b > 1:\n",
    "        d = 1\n",
    "        print(d)\n",
    "        b=b-2\n",
    "        while b > 0:\n",
    "            a=c+d\n",
    "            print(a)\n",
    "            c=d\n",
    "            d=a\n",
    "            b-=1\n",
    "    return\n",
    "\n",
    "a=int(input(\"How many Fibonacci numbers do you want to see? \"))\n",
    "if a <= 0:\n",
    "    print('error')\n",
    "fun(a)"
   ]
  },
  {
   "cell_type": "code",
   "execution_count": null,
   "metadata": {},
   "outputs": [],
   "source": []
  }
 ],
 "metadata": {
  "kernelspec": {
   "display_name": "Python 3",
   "language": "python",
   "name": "python3"
  },
  "language_info": {
   "codemirror_mode": {
    "name": "ipython",
    "version": 3
   },
   "file_extension": ".py",
   "mimetype": "text/x-python",
   "name": "python",
   "nbconvert_exporter": "python",
   "pygments_lexer": "ipython3",
   "version": "3.7.3"
  }
 },
 "nbformat": 4,
 "nbformat_minor": 2
}


